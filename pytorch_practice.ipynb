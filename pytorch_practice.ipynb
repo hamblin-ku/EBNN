{
 "cells": [
  {
   "cell_type": "code",
   "execution_count": 1,
   "id": "unlimited-wayne",
   "metadata": {},
   "outputs": [],
   "source": [
    "import torch\n",
    "import numpy as np\n",
    "import torch.nn as nn\n",
    "import torch.nn.functional as F\n",
    "from torch.utils.data import Dataset\n",
    "\n",
    "from sklearn.datasets import load_iris\n",
    "from sklearn.model_selection import train_test_split\n",
    "from sklearn.preprocessing import StandardScaler\n",
    "\n",
    "import tqdm\n",
    "import matplotlib.pyplot as plt\n"
   ]
  },
  {
   "cell_type": "code",
   "execution_count": 2,
   "id": "acute-witch",
   "metadata": {},
   "outputs": [],
   "source": [
    "# Define class for model \n",
    "class Model(nn.Module):\n",
    "    def __init__(self, input_dim):\n",
    "        super(Model, self).__init__()\n",
    "        self.layer1 = nn.Linear(input_dim, 50)\n",
    "        self.layer2 = nn.Linear(50, 50)\n",
    "        self.layer3 = nn.Linear(50, 3)\n",
    "        \n",
    "    def forward(self, x):\n",
    "        x = F.relu(self.layer1(x))\n",
    "        x = F.relu(self.layer2(x))\n",
    "        x = F.softmax(self.layer3(x), dim=1)\n",
    "        return x\n",
    "    \n",
    "# Create class for Iris dataset\n",
    "class IrisDataset(Dataset):\n",
    "    def __init__(self):\n",
    "        'Initialization'\n",
    "        self.data, self.target = load_iris(return_X_y = True)\n",
    "        #self.target = np.expand_dims(self.target, axis=1)\n",
    "        self.scaler = StandardScaler()\n",
    "        \n",
    "    def __getitem__(self,idx):\n",
    "        if torch.is_tensor(idx):\n",
    "            idx = idx.tolist()\n",
    "        y = torch.from_numpy(self.target)[idx].long()\n",
    "        X = torch.from_numpy(self.scaler.fit_transform(self.data)[idx]).float()\n",
    "        X.requires_grad = True\n",
    "        sample = {'inputs' : X, 'outputs' : y }\n",
    "        \n",
    "        return sample\n",
    "    \n",
    "    def __len__(self):\n",
    "        return len(self.data)#*len(self.target)"
   ]
  },
  {
   "cell_type": "code",
   "execution_count": 3,
   "id": "curious-tournament",
   "metadata": {},
   "outputs": [
    {
     "data": {
      "text/plain": [
       "Model(\n",
       "  (layer1): Linear(in_features=4, out_features=50, bias=True)\n",
       "  (layer2): Linear(in_features=50, out_features=50, bias=True)\n",
       "  (layer3): Linear(in_features=50, out_features=3, bias=True)\n",
       ")"
      ]
     },
     "execution_count": 3,
     "metadata": {},
     "output_type": "execute_result"
    }
   ],
   "source": [
    "iris_dataset = IrisDataset()\n",
    "\n",
    "train_length = int(0.8*len(iris_dataset))\n",
    "test_length = len(iris_dataset) - train_length\n",
    "\n",
    "params = {'batch_size': 6,\n",
    "          'shuffle': True,\n",
    "         'num_workers': 0}\n",
    "\n",
    "train_dataset , test_dataset = torch.utils.data.random_split(iris_dataset, (train_length, test_length))\n",
    "train_generator = torch.utils.data.DataLoader(train_dataset, **params)\n",
    "test_generator = torch.utils.data.DataLoader(test_dataset, **params)\n",
    "\n",
    "net     = Model( len(train_dataset[0]['inputs']) )\n",
    "optimizer = torch.optim.SGD(net.parameters(), lr=0.001, momentum = 0.9)\n",
    "loss_fn   = nn.CrossEntropyLoss()\n",
    "\n",
    "net"
   ]
  },
  {
   "cell_type": "code",
   "execution_count": 8,
   "id": "institutional-shelter",
   "metadata": {},
   "outputs": [],
   "source": [
    "# Train/test functions\n",
    "# Uses tqdm package for progress bar\n",
    "\n",
    "def train(epoch):\n",
    "    net.train()\n",
    "    running_loss = 0\n",
    "    tot_correct = 0\n",
    "    total = 0\n",
    "    \n",
    "    for i, data in enumerate(train_generator):\n",
    "        X = data['inputs']\n",
    "        y = data['outputs']\n",
    "        \n",
    "        # Zero gradients\n",
    "        optimizer.zero_grad()\n",
    "\n",
    "        # Compute model output\n",
    "        y_pred = net(X)\n",
    "        \n",
    "        # Compute loss and store in list\n",
    "        loss = loss_fn(y_pred, y)\n",
    "        running_loss += loss.item()\n",
    "        \n",
    "        # credit assignment\n",
    "        loss.backward()\n",
    "\n",
    "        # update weights\n",
    "        optimizer.step() \n",
    "        \n",
    "        tot_correct += (torch.argmax(y_pred, dim=1) == y).sum()\n",
    "        total += len(y)\n",
    "          \n",
    "    train_loss = 100* running_loss / len(train_generator)\n",
    "    train_acc = 100*tot_correct/total\n",
    "    \n",
    "    return train_loss, train_acc\n",
    "       \n",
    "    \n",
    "def test(epoch):\n",
    "    net.eval()\n",
    "    running_loss = 0\n",
    "    tot_correct = 0\n",
    "    total = 0\n",
    "    \n",
    "    with torch.no_grad():\n",
    "        for i, data in enumerate(test_generator):\n",
    "            X_test = data['inputs']\n",
    "            y_test = data['outputs']\n",
    "\n",
    "            y_pred_test = net(X_test)\n",
    "\n",
    "            # Compute loss and store in list\n",
    "            loss = loss_fn(y_pred_test, y_test)\n",
    "            running_loss += loss.item()\n",
    "\n",
    "            tot_correct += (torch.argmax(y_pred_test, dim=1) == y_test).sum()\n",
    "            total += len(y_test)\n",
    "    \n",
    "    test_loss = 100 * running_loss / len(test_generator)\n",
    "    test_acc = 100 *tot_correct/total\n",
    "    \n",
    "    return test_loss, test_acc"
   ]
  },
  {
   "cell_type": "code",
   "execution_count": 5,
   "id": "sharp-florida",
   "metadata": {},
   "outputs": [
    {
     "name": "stderr",
     "output_type": "stream",
     "text": [
      "100%|██████████| 100/100 [00:06<00:00, 16.48it/s]\n"
     ]
    }
   ],
   "source": [
    "# Run \n",
    "EPOCHS  = 100\n",
    "\n",
    "test_loss_list     = np.zeros((EPOCHS,))\n",
    "test_accuracy_list = np.zeros((EPOCHS,))\n",
    "\n",
    "train_loss_list     = np.zeros((EPOCHS,))\n",
    "train_accuracy_list = np.zeros((EPOCHS,))\n",
    "\n",
    "for epoch in tqdm.trange(EPOCHS): \n",
    "    train_loss_list[epoch], train_accuracy_list[epoch] = train(epoch)\n",
    "    test_loss_list[epoch], test_accuracy_list[epoch] = test(epoch)\n",
    "    \n",
    "    #print('Test Loss: %.3f | Accuracy: %.3f'%(test_loss,accuracy_list[epoch]), '\\t Epoch', epoch)"
   ]
  },
  {
   "cell_type": "code",
   "execution_count": 6,
   "id": "casual-shakespeare",
   "metadata": {},
   "outputs": [
    {
     "data": {
      "image/png": "[encoded data removed]",
      "text/plain": [
       "<Figure size 864x432 with 2 Axes>"
      ]
     },
     "metadata": {
      "needs_background": "light"
     },
     "output_type": "display_data"
    }
   ],
   "source": [
    "fig, (ax1, ax2) = plt.subplots(2, figsize=(12, 6), sharex=True)\n",
    "ax1.set_ylim([30,100])\n",
    "ax1.plot(test_accuracy_list, label = 'test')\n",
    "ax1.plot(train_accuracy_list, label = 'train')\n",
    "ax1.set_ylabel(\"validation accuracy\")\n",
    "ax2.plot(test_loss_list, label = 'test')\n",
    "ax2.plot(train_loss_list, label = 'train')\n",
    "ax1.legend()\n",
    "ax2.legend()\n",
    "ax2.set_ylabel(\"validation loss\")\n",
    "ax2.set_xlabel(\"epochs\");"
   ]
  },
  {
   "cell_type": "code",
   "execution_count": null,
   "id": "compatible-arthur",
   "metadata": {},
   "outputs": [],
   "source": []
  },
  {
   "cell_type": "code",
   "execution_count": null,
   "id": "enormous-analyst",
   "metadata": {},
   "outputs": [],
   "source": [
    "\n"
   ]
  },
  {
   "cell_type": "code",
   "execution_count": null,
   "id": "approved-norman",
   "metadata": {},
   "outputs": [],
   "source": []
  },
  {
   "cell_type": "code",
   "execution_count": null,
   "id": "quiet-brake",
   "metadata": {},
   "outputs": [],
   "source": []
  }
 ],
 "metadata": {
  "kernelspec": {
   "display_name": "Python 3",
   "language": "python",
   "name": "python3"
  },
  "language_info": {
   "codemirror_mode": {
    "name": "ipython",
    "version": 3
   },
   "file_extension": ".py",
   "mimetype": "text/x-python",
   "name": "python",
   "nbconvert_exporter": "python",
   "pygments_lexer": "ipython3",
   "version": "3.7.10"
  }
 },
 "nbformat": 4,
 "nbformat_minor": 5
}
